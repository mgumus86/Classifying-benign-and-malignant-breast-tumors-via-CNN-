{
 "cells": [
  {
   "cell_type": "code",
   "execution_count": null,
   "metadata": {},
   "outputs": [],
   "source": [
    "import glob\n",
    "import cv2\n",
    "from PIL import Image\n",
    "import os\n",
    "import json"
   ]
  },
  {
   "cell_type": "code",
   "execution_count": null,
   "metadata": {},
   "outputs": [],
   "source": [
    "#Malignent Images\n",
    "path = \"./Data/Ultrasound-labeled/malignant/\"\n",
    "dir_list = os.listdir(path)\n",
    "\n",
    "Tumor_list_malignant = []\n",
    "\n",
    "for id in dir_list:\n",
    "    output_path1 = r'./Data/Ultrasound-labeled/malignant/'+id+'/*.jpg'\n",
    "    output_path2 = r'./Data/Ultrasound-labeled/malignant/'+id+'/*.json'\n",
    "    images = [cv2.imread(file) for file in glob.glob(output_path1)]\n",
    "    \n",
    "    labels = []\n",
    "    for file in glob.glob(output_path2):\n",
    "        with open(file) as json_file:\n",
    "            label = json.load(json_file)\n",
    "        labels.append(label)\n",
    "    \n",
    "    Tumor = {'Type': 'Malignant', 'Patient': {'id': id, 'Image': images, 'Tumor_Label':  labels}}\n",
    "    Tumor_list_malignant.append(Tumor)\n",
    "\n",
    "#Benign Images\n",
    "\n",
    "path = \"./Data/Ultrasound-labeled/benign/\"\n",
    "dir_list = os.listdir(path)\n",
    "\n",
    "Tumor_list_benign = []\n",
    "\n",
    "for id in dir_list:\n",
    "    output_path1 = r'./Data/Ultrasound-labeled/benign/'+id+'/*.jpg'\n",
    "    output_path2 = r'./Data/Ultrasound-labeled/benign/'+id+'/*.json'\n",
    "    images = [cv2.imread(file) for file in glob.glob(output_path1)]\n",
    "    \n",
    "    labels = []\n",
    "    for file in glob.glob(output_path2):\n",
    "        with open(file) as json_file:\n",
    "            label = json.load(json_file)\n",
    "        labels.append(label)\n",
    "    \n",
    "    Tumor = {'Type': 'Benign', 'Patient': {'id': id, 'Image': images, 'Tumor_Label':  labels}}\n",
    "    Tumor_list_benign.append(Tumor)"
   ]
  },
  {
   "cell_type": "code",
   "execution_count": null,
   "metadata": {},
   "outputs": [],
   "source": [
    "print(Tumor)"
   ]
  }
 ],
 "metadata": {
  "kernelspec": {
   "display_name": "Python 3",
   "language": "python",
   "name": "python3"
  },
  "language_info": {
   "codemirror_mode": {
    "name": "ipython",
    "version": 3
   },
   "file_extension": ".py",
   "mimetype": "text/x-python",
   "name": "python",
   "nbconvert_exporter": "python",
   "pygments_lexer": "ipython3",
   "version": "3.11.3"
  }
 },
 "nbformat": 4,
 "nbformat_minor": 4
}
