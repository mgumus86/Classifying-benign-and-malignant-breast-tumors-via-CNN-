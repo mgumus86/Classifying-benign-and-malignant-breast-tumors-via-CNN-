{
 "cells": [
  {
   "cell_type": "code",
   "execution_count": 1,
   "metadata": {},
   "outputs": [],
   "source": [
    "import glob\n",
    "import cv2\n",
    "from PIL import Image\n",
    "import os\n",
    "import json\n",
    "from matplotlib import pyplot as plt\n",
    "import math\n",
    "import numpy as np"
   ]
  },
  {
   "cell_type": "code",
   "execution_count": null,
   "metadata": {},
   "outputs": [],
   "source": [
    "#Malignent Images\n",
    "path = \"Ultrasound-labeled/malignant/\"\n",
    "dir_list = [f for f in os.listdir(path) if not f.startswith('.')]\n",
    "\n",
    "Tumor_list_malignant = []\n",
    "\n",
    "cropped_images_malignant = []\n",
    "\n",
    "for id in dir_list:\n",
    "    output_path1 = r'Ultrasound-labeled/malignant/'+id+'/*.jpg'\n",
    "    \n",
    "    images = []\n",
    "    labels = []\n",
    "    for file in glob.glob(output_path1):\n",
    "        images.append(cv2.imread(file))\n",
    "        output_path2 = file[:-4]+'.json'\n",
    "        with open(output_path2) as json_file:\n",
    "            label = json.load(json_file)\n",
    "        labels.append(label)\n",
    "        \n",
    "        position = label['shapes'][0]['points']\n",
    "        pos1 = math.floor(position[0][1])\n",
    "        pos2 = math.ceil(position[1][1])\n",
    "        pos3 = math.floor(position[0][0])\n",
    "        pos4 = math.ceil(position[1][0])\n",
    "        \n",
    "        cropped_images_malignant.append(cv2.imread(file)[pos1:pos2, pos3:pos4,:])\n",
    "    \n",
    "    Tumor = {'Type': 'Malignant', 'Patient': {'id': id, 'Image': images, 'Tumor_Label':  labels[0]['shapes'][0]['points']}}\n",
    "    Tumor_list_malignant.append(Tumor)\n",
    "\n",
    "#Benign Images\n",
    "\n",
    "path = \"Ultrasound-labeled/benign/\"\n",
    "dir_list = [f for f in os.listdir(path) if not f.startswith('.')]\n",
    "\n",
    "Tumor_list_benign = []\n",
    "cropped_images_benign = []\n",
    "\n",
    "for id in dir_list:\n",
    "    output_path1 = r'Ultrasound-labeled/benign/'+id+'/*.jpg'\n",
    "    \n",
    "    images = []\n",
    "    labels = []\n",
    "    for file in glob.glob(output_path1):\n",
    "        images.append(cv2.imread(file))\n",
    "        output_path2 = file[:-4]+'.json'\n",
    "        with open(output_path2) as json_file:\n",
    "            label = json.load(json_file)\n",
    "        labels.append(label)\n",
    "        \n",
    "        position = label['shapes'][0]['points']\n",
    "        pos1 = math.floor(position[0][1])\n",
    "        pos2 = math.ceil(position[1][1])\n",
    "        pos3 = math.floor(position[0][0])\n",
    "        pos4 = math.ceil(position[1][0])\n",
    "        \n",
    "        cropped_images_benign.append(cv2.imread(file)[pos1:pos2, pos3:pos4,:])\n",
    "    \n",
    "    Tumor = {'Type': 'Benign', 'Patient': {'id': id, 'Image': images, 'Tumor_Label':  labels[0]['shapes'][0]['points']}}\n",
    "    Tumor_list_benign.append(Tumor)"
   ]
  },
  {
   "cell_type": "code",
   "execution_count": null,
   "metadata": {},
   "outputs": [],
   "source": [
    "len(cropped_images_malignant)"
   ]
  },
  {
   "cell_type": "code",
   "execution_count": null,
   "metadata": {},
   "outputs": [],
   "source": [
    "len(cropped_images_benign)"
   ]
  },
  {
   "cell_type": "code",
   "execution_count": null,
   "metadata": {},
   "outputs": [],
   "source": [
    "x = cropped_images_benign[2]\n",
    "img = Image.fromarray(x)\n",
    "plt.imshow(x, cmap=\"gray\") \n",
    "plt.show() "
   ]
  },
  {
   "cell_type": "code",
   "execution_count": null,
   "metadata": {
    "scrolled": false
   },
   "outputs": [],
   "source": [
    "y = cropped_images_malignant[2]\n",
    "img = Image.fromarray(y)\n",
    "plt.imshow(y, cmap=\"gray\") \n",
    "plt.show() "
   ]
  },
  {
   "cell_type": "markdown",
   "metadata": {},
   "source": [
    "# Save Cropped Malignant Images as jpeg Files"
   ]
  },
  {
   "cell_type": "code",
   "execution_count": null,
   "metadata": {},
   "outputs": [],
   "source": [
    "#for k in range(len(cropped_images_malignant)):\n",
    " #   cv2.imwrite(r'im'+str(k)+'.jpeg',cropped_images_malignant[k])"
   ]
  },
  {
   "cell_type": "markdown",
   "metadata": {},
   "source": [
    "# Save Cropped Benign Images as jpeg Files"
   ]
  },
  {
   "cell_type": "code",
   "execution_count": null,
   "metadata": {},
   "outputs": [],
   "source": [
    "#for k in range(len(cropped_images_benign)):\n",
    "    #cv2.imwrite(r'im'+str(k)+'.jpeg',cropped_images_benign[k])"
   ]
  }
 ],
 "metadata": {
  "kernelspec": {
   "display_name": "Python 3",
   "language": "python",
   "name": "python3"
  },
  "language_info": {
   "codemirror_mode": {
    "name": "ipython",
    "version": 3
   },
   "file_extension": ".py",
   "mimetype": "text/x-python",
   "name": "python",
   "nbconvert_exporter": "python",
   "pygments_lexer": "ipython3",
   "version": "3.8.5"
  }
 },
 "nbformat": 4,
 "nbformat_minor": 4
}
